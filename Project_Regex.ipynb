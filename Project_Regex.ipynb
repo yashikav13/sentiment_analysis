{
  "nbformat": 4,
  "nbformat_minor": 5,
  "metadata": {
    "accelerator": "GPU",
    "colab": {
      "name": "Project Regex.ipynb",
      "provenance": []
    },
    "kernelspec": {
      "display_name": "Python 3",
      "language": "python",
      "name": "python3"
    },
    "language_info": {
      "codemirror_mode": {
        "name": "ipython",
        "version": 3
      },
      "file_extension": ".py",
      "mimetype": "text/x-python",
      "name": "python",
      "nbconvert_exporter": "python",
      "pygments_lexer": "ipython3",
      "version": "3.8.8"
    }
  },
  "cells": [
    {
      "cell_type": "code",
      "metadata": {
        "id": "e445fb53"
      },
      "source": [
        "# First, let's import the necessary libraries\n",
        "import numpy as np\n",
        "import pandas as pd\n",
        "import matplotlib.pyplot as plt\n",
        "import seaborn as sns\n",
        "%matplotlib inline"
      ],
      "id": "e445fb53",
      "execution_count": null,
      "outputs": []
    },
    {
      "cell_type": "code",
      "metadata": {
        "colab": {
          "resources": {
            "http://localhost:8080/nbextensions/google.colab/files.js": {
              "data": "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",
              "ok": true,
              "headers": [
                [
                  "content-type",
                  "application/javascript"
                ]
              ],
              "status": 200,
              "status_text": ""
            }
          },
          "base_uri": "https://localhost:8080/",
          "height": 39
        },
        "id": "e6fba8e6",
        "outputId": "ae9861cf-ec0b-4891-8295-e724c0a9bb71"
      },
      "source": [
        "from google.colab import files\n",
        "data_to_load = files.upload()"
      ],
      "id": "e6fba8e6",
      "execution_count": null,
      "outputs": [
        {
          "output_type": "display_data",
          "data": {
            "text/html": [
              "\n",
              "     <input type=\"file\" id=\"files-81ebe635-3fe6-4372-b336-4c8b7546de90\" name=\"files[]\" multiple disabled\n",
              "        style=\"border:none\" />\n",
              "     <output id=\"result-81ebe635-3fe6-4372-b336-4c8b7546de90\">\n",
              "      Upload widget is only available when the cell has been executed in the\n",
              "      current browser session. Please rerun this cell to enable.\n",
              "      </output>\n",
              "      <script src=\"/nbextensions/google.colab/files.js\"></script> "
            ],
            "text/plain": [
              "<IPython.core.display.HTML object>"
            ]
          },
          "metadata": {}
        }
      ]
    },
    {
      "cell_type": "code",
      "metadata": {
        "id": "b8d0209e"
      },
      "source": [
        "# Read the csv file for analysis\n",
        "df = pd.read_csv('Flipkart_ratings.csv')\n",
        "df.head()"
      ],
      "id": "b8d0209e",
      "execution_count": null,
      "outputs": []
    },
    {
      "cell_type": "markdown",
      "metadata": {
        "id": "402fde38"
      },
      "source": [
        "### Getting general information about our dataset"
      ],
      "id": "402fde38"
    },
    {
      "cell_type": "code",
      "metadata": {
        "id": "443735f7"
      },
      "source": [
        "df.info()"
      ],
      "id": "443735f7",
      "execution_count": null,
      "outputs": []
    },
    {
      "cell_type": "code",
      "metadata": {
        "id": "141d1770"
      },
      "source": [
        "df.describe()"
      ],
      "id": "141d1770",
      "execution_count": null,
      "outputs": []
    },
    {
      "cell_type": "code",
      "metadata": {
        "id": "597dd4af"
      },
      "source": [
        "df.shape"
      ],
      "id": "597dd4af",
      "execution_count": null,
      "outputs": []
    },
    {
      "cell_type": "code",
      "metadata": {
        "id": "765fa78a"
      },
      "source": [
        "# Check if there are any null values or not\n",
        "df.isnull().sum()"
      ],
      "id": "765fa78a",
      "execution_count": null,
      "outputs": []
    },
    {
      "cell_type": "code",
      "metadata": {
        "id": "83d475bc"
      },
      "source": [
        "# Check if there are any duplicate entries or not\n",
        "df.duplicated().sum()"
      ],
      "id": "83d475bc",
      "execution_count": null,
      "outputs": []
    },
    {
      "cell_type": "code",
      "metadata": {
        "id": "7259e8ca"
      },
      "source": [
        "df['product_title'].nunique()"
      ],
      "id": "7259e8ca",
      "execution_count": null,
      "outputs": []
    },
    {
      "cell_type": "code",
      "metadata": {
        "id": "6be544e9"
      },
      "source": [
        "# A Violin Plot is used to visualise the distribution of the data and its probability density.Here,this plot shows total votes\n",
        "#  count based on product title \n",
        "plt.figure(figsize=(20,12))\n",
        "sns.violinplot(df['product_title'],df['total_votes'],data=df)"
      ],
      "id": "6be544e9",
      "execution_count": null,
      "outputs": []
    },
    {
      "cell_type": "code",
      "metadata": {
        "id": "fa0c23f9"
      },
      "source": [
        "# This plot shows count of total votes based on star rating\n",
        "plt.figure(figsize=(15,10))\n",
        "sns.barplot(df['star_rating'],df['total_votes'],data=df)"
      ],
      "id": "fa0c23f9",
      "execution_count": null,
      "outputs": []
    },
    {
      "cell_type": "code",
      "metadata": {
        "id": "96992a2f"
      },
      "source": [
        "plt.figure(figsize=(10,10))\n",
        "sns.lineplot(df['verified_purchase'],df['star_rating'],data=df)"
      ],
      "id": "96992a2f",
      "execution_count": null,
      "outputs": []
    },
    {
      "cell_type": "code",
      "metadata": {
        "id": "8a02b35a"
      },
      "source": [
        "# In lineplot() Draw a line plot with the possibility of several semantic groupings. \n",
        "# These parameters control what visual semantics are used to identify the different subsets.¶\n",
        "# In this plot we have plotted verified purchase VS star rating plot based on total votes\n",
        "plt.figure(figsize=(10,10))\n",
        "sns.lineplot(df['verified_purchase'],df['star_rating'],hue=df['total_votes'],data=df)"
      ],
      "id": "8a02b35a",
      "execution_count": null,
      "outputs": []
    },
    {
      "cell_type": "code",
      "metadata": {
        "id": "23b761cf"
      },
      "source": [
        "# This plot shows verfifed purchase graph based on helpful votes which we got from customer\n",
        "plt.figure(figsize=(15,12))\n",
        "sns.lineplot(df['helpful_votes'],df['verified_purchase'],data=df)"
      ],
      "id": "23b761cf",
      "execution_count": null,
      "outputs": []
    },
    {
      "cell_type": "code",
      "metadata": {
        "id": "da20afd1"
      },
      "source": [
        "df['Sentiment'] = [1 if x > 3 else 0 for x in df.star_rating]  #0-negative 1-positive"
      ],
      "id": "da20afd1",
      "execution_count": null,
      "outputs": []
    },
    {
      "cell_type": "code",
      "metadata": {
        "id": "aef4c546"
      },
      "source": [
        "df['Sentiment']"
      ],
      "id": "aef4c546",
      "execution_count": null,
      "outputs": []
    },
    {
      "cell_type": "code",
      "metadata": {
        "id": "af43d7c1"
      },
      "source": [
        "# Sentiment VS star rating plot\n",
        "sns.barplot(x=df['Sentiment'],y=df['star_rating'])"
      ],
      "id": "af43d7c1",
      "execution_count": null,
      "outputs": []
    },
    {
      "cell_type": "markdown",
      "metadata": {
        "id": "2f53f9fa"
      },
      "source": [
        "## Final Approach"
      ],
      "id": "2f53f9fa"
    },
    {
      "cell_type": "code",
      "metadata": {
        "id": "3780a883"
      },
      "source": [
        "review = df['review_headline']"
      ],
      "id": "3780a883",
      "execution_count": null,
      "outputs": []
    },
    {
      "cell_type": "code",
      "metadata": {
        "id": "3e97bad2"
      },
      "source": [
        "import nltk"
      ],
      "id": "3e97bad2",
      "execution_count": null,
      "outputs": []
    },
    {
      "cell_type": "code",
      "metadata": {
        "id": "e5da640d"
      },
      "source": [
        "from nltk.corpus import stopwords \n",
        "#Stopwords are the English words which does not add much meaning to a sentence. They can safely be ignored without sacrificing the meaning of the sentence.\n",
        "from nltk.stem import SnowballStemmer\n",
        "#It is a stemming algorithm.stemming is reducing a word to its base word or stem in such a way that the words of similar kind lie under a common stem.\n",
        "stop_words = stopwords.words('english')"
      ],
      "id": "e5da640d",
      "execution_count": null,
      "outputs": []
    },
    {
      "cell_type": "code",
      "metadata": {
        "id": "039ac9fa"
      },
      "source": [
        "snow = SnowballStemmer('english') #the stemmer requires a language parameter"
      ],
      "id": "039ac9fa",
      "execution_count": null,
      "outputs": []
    },
    {
      "cell_type": "code",
      "metadata": {
        "id": "aca25c5b"
      },
      "source": [
        "pip install emoji"
      ],
      "id": "aca25c5b",
      "execution_count": null,
      "outputs": []
    },
    {
      "cell_type": "code",
      "metadata": {
        "id": "fac2ceed"
      },
      "source": [
        "import emoji\n",
        "import re\n",
        "from nltk.tokenize import word_tokenize"
      ],
      "id": "fac2ceed",
      "execution_count": null,
      "outputs": []
    },
    {
      "cell_type": "code",
      "metadata": {
        "id": "5861068f"
      },
      "source": [
        "review = [re.sub(\"!\",\"\",txt) for txt in review] # used to replace occurrences of special characters with white space  .\n",
        "emoji_pattern = re.compile(\"[\"\n",
        "                           u\"\\U0001F600-\\U0001F64F\"  # emoticons\n",
        "                           u\"\\U0001F300-\\U0001F5FF\"  # symbols & pictographs\n",
        "                           u\"\\U0001F680-\\U0001F6FF\"  # transport & map symbols\n",
        "                           u\"\\U0001F1E0-\\U0001F1FF\"  # flags (iOS)\n",
        "                           u\"\\U00002702-\\U000027B0\"\n",
        "                           u\"\\U000024C2-\\U0001F251\"\n",
        "                           \"]+\", flags=re.UNICODE)\n",
        "def give_emoji_free_text(comm): # function to remove emojis from reviews\n",
        "    allchars = [str for str in comm]\n",
        "    emoji_list = [c for c in allchars if c in emoji.UNICODE_EMOJI]\n",
        "    clean_text = ' '.join([str for str in comm.split() if not any(i in str for i in emoji_list)])\n",
        "    return clean_text\n",
        "\n",
        "review = [give_emoji_free_text(txt) for txt in review]\n",
        "review = [give_emoji_free_text(txt) for txt in review]\n",
        "#from all reviews , readmore, -,\\d is replaced with space. \n",
        "review = [re.sub(\"READ MORE|READ MOR|READ MO\",\"\",i) for i in review]\n",
        "review = [re.sub('-','',i) for i in review]\n",
        "review = [re.sub('\\d','',i) for i in review]"
      ],
      "id": "5861068f",
      "execution_count": null,
      "outputs": []
    },
    {
      "cell_type": "code",
      "metadata": {
        "id": "39b02870"
      },
      "source": [
        "text =[]\n",
        "setstop = ['money','purchase','penny','market','product','every']\n",
        "stopw = (stopwords.words('english'))\n",
        "stopw.extend(setstop) # extending the stop words list by adding setstop\n",
        "stopw = set(stopw)\n",
        "\n",
        "for message in review:\n",
        "    message = message.lower().strip() # converting review to lower case and also removing both leading and trailing characters.\n",
        "    words = [snow.stem(word) for word in message.split() if word not in stopw] #checking that if stop words are present in message, if word not in stopwords we will just stem it.\n",
        "    text.append(' '.join(words)) #it will create a new list of all the above stemmed words."
      ],
      "id": "39b02870",
      "execution_count": null,
      "outputs": []
    },
    {
      "cell_type": "code",
      "metadata": {
        "id": "54c1cd10"
      },
      "source": [
        "import nltk\n",
        "nltk.download('punkt')\n",
        "#This tokenizer divides a text into a list of sentences, by using an unsupervised algorithm to build a model for abbreviation words, collocations, and words that start sentences"
      ],
      "id": "54c1cd10",
      "execution_count": null,
      "outputs": []
    },
    {
      "cell_type": "code",
      "metadata": {
        "id": "37ed4b03"
      },
      "source": [
        "v= []\n",
        "for val in text:\n",
        "    val = str(val)\n",
        "    tokens = val.split() #spliting all words in text\n",
        "    for i in range(len(tokens)):\n",
        "        tokens[i] = tokens[i].lower() # converting each word into lower case\n",
        "    v.append(\" \".join(tokens)) # creating a new list v with all lower case tokens\n",
        "for word in range(len(v)):\n",
        "    token = word_tokenize(v[word]) #for splitting strings into tokens (nominally words). It splits tokens based on white space and punctuation.\n",
        "    for tkn in token:\n",
        "        if tkn in stopw:# checking if any stopwords present if present we will remove it.\n",
        "            token.remove(tkn)\n",
        "    v[word] = \" \".join([str(ele) for ele in token]) "
      ],
      "id": "37ed4b03",
      "execution_count": null,
      "outputs": []
    },
    {
      "cell_type": "code",
      "metadata": {
        "id": "f629fcd3"
      },
      "source": [
        "from sklearn.feature_extraction.text import CountVectorizer,TfidfVectorizer\n",
        "#Convert a collection of text documents to a matrix of token counts.\n",
        "#Convert a collection of raw documents to a matrix of TF-IDF features.\n",
        "from sklearn.linear_model import LogisticRegression\n",
        "from sklearn.model_selection import train_test_split\n",
        "from sklearn.metrics import confusion_matrix,accuracy_score"
      ],
      "id": "f629fcd3",
      "execution_count": null,
      "outputs": []
    },
    {
      "cell_type": "code",
      "metadata": {
        "id": "120f88f8"
      },
      "source": [
        "count_vect = CountVectorizer(max_features=5000) #Initialize a CountVectorizer object: count_vectorizer\n",
        "bow_data = count_vect.fit_transform(v).toarray() #Transforms the data into a bag of words"
      ],
      "id": "120f88f8",
      "execution_count": null,
      "outputs": []
    },
    {
      "cell_type": "code",
      "metadata": {
        "id": "c067e853"
      },
      "source": [
        "count_vect.get_feature_names()[:10]"
      ],
      "id": "c067e853",
      "execution_count": null,
      "outputs": []
    },
    {
      "cell_type": "code",
      "metadata": {
        "id": "c4a23981"
      },
      "source": [
        "tf_idf = TfidfVectorizer() #initialise tfid object\n",
        "tf_data = tf_idf.fit_transform(v).toarray()\n",
        "tf_data.shape"
      ],
      "id": "c4a23981",
      "execution_count": null,
      "outputs": []
    },
    {
      "cell_type": "code",
      "metadata": {
        "id": "ccb78aa6"
      },
      "source": [
        "z = []\n",
        "import random\n",
        "for i in range(len(v)):\n",
        "    c = random.randint(0,1) # taking a raandom number between 0-1\n",
        "    z.append(c) #appending it in z\n",
        "df['Score'] = z\n",
        "y = df['Score']"
      ],
      "id": "ccb78aa6",
      "execution_count": null,
      "outputs": []
    },
    {
      "cell_type": "code",
      "metadata": {
        "id": "7dcac5b2"
      },
      "source": [
        "x_train,x_test,y_train,y_test = train_test_split(tf_data,y) # splitting data into train and test "
      ],
      "id": "7dcac5b2",
      "execution_count": null,
      "outputs": []
    },
    {
      "cell_type": "code",
      "metadata": {
        "id": "1c39a5aa"
      },
      "source": [
        "x_train.shape"
      ],
      "id": "1c39a5aa",
      "execution_count": null,
      "outputs": []
    },
    {
      "cell_type": "code",
      "metadata": {
        "id": "690e22ea"
      },
      "source": [
        "y_test.shape"
      ],
      "id": "690e22ea",
      "execution_count": null,
      "outputs": []
    },
    {
      "cell_type": "code",
      "metadata": {
        "id": "b9dcd1c9"
      },
      "source": [
        "lr = LogisticRegression(class_weight='balanced') # intialize a logistic regression function\n",
        "lr.fit(x_train,y_train) # fitting x_train and y-train data in model\n",
        "y_pred = lr.predict(x_test) #predicting the results with x-test"
      ],
      "id": "b9dcd1c9",
      "execution_count": null,
      "outputs": []
    },
    {
      "cell_type": "code",
      "metadata": {
        "id": "8c816dfa"
      },
      "source": [
        "accuracy_score(y_test,y_pred)"
      ],
      "id": "8c816dfa",
      "execution_count": null,
      "outputs": []
    },
    {
      "cell_type": "code",
      "metadata": {
        "id": "fdefe20e"
      },
      "source": [
        "accuracy_score(y_train,lr.predict(x_train))"
      ],
      "id": "fdefe20e",
      "execution_count": null,
      "outputs": []
    },
    {
      "cell_type": "code",
      "metadata": {
        "id": "48f63a13"
      },
      "source": [
        "cm = confusion_matrix(y_test,y_pred)\n",
        "cm"
      ],
      "id": "48f63a13",
      "execution_count": null,
      "outputs": []
    },
    {
      "cell_type": "markdown",
      "metadata": {
        "id": "981301a1"
      },
      "source": [
        "# Trying Textblob"
      ],
      "id": "981301a1"
    },
    {
      "cell_type": "code",
      "metadata": {
        "id": "3dfa77b0"
      },
      "source": [
        "from textblob import TextBlob\n",
        "#TextBlob is a Python  library for processing textual data. It provides a simple API for diving into common natural language processing (NLP) tasks such as part-of-speech tagging, noun phrase extraction, sentiment analysis, classification, translation, and more.\n",
        "\n",
        "from textblob import TextBlob\n",
        "score = []\n",
        "for i in range(len(v)):\n",
        "    bl = TextBlob(v[i])\n",
        "    score.append(bl.sentiment.polarity) # sentiment polarity score which tells if the sentiment is positive or negative"
      ],
      "id": "3dfa77b0",
      "execution_count": null,
      "outputs": []
    },
    {
      "cell_type": "code",
      "metadata": {
        "id": "82a8e9f9"
      },
      "source": [
        "for i in range(len(score)):\n",
        "    if score[i] < 0.0: #negative score\n",
        "        score[i] = 0\n",
        "    elif score[i] > 0.0:#positive score\n",
        "        score[i] = 1\n",
        "    elif score[i] == 0.0: #neutral\n",
        "        score[i] = 0"
      ],
      "id": "82a8e9f9",
      "execution_count": null,
      "outputs": []
    },
    {
      "cell_type": "code",
      "metadata": {
        "id": "2c207a32"
      },
      "source": [
        "df['Score'] = score"
      ],
      "id": "2c207a32",
      "execution_count": null,
      "outputs": []
    },
    {
      "cell_type": "code",
      "metadata": {
        "id": "b1511bb7"
      },
      "source": [
        "df['Score'].value_counts()"
      ],
      "id": "b1511bb7",
      "execution_count": null,
      "outputs": []
    },
    {
      "cell_type": "code",
      "metadata": {
        "id": "5b23d063"
      },
      "source": [
        "df.review_headline = v\n",
        "vect = TfidfVectorizer() #intialising tfid object\n",
        "X=vect.fit_transform(df.review_headline).toarray() \n",
        "\n",
        "X_df = pd.DataFrame(X,columns = vect.get_feature_names())#creating a dataframe with X rows and columns present in vect"
      ],
      "id": "5b23d063",
      "execution_count": null,
      "outputs": []
    },
    {
      "cell_type": "code",
      "metadata": {
        "id": "6069c572"
      },
      "source": [
        "y = df['Score']"
      ],
      "id": "6069c572",
      "execution_count": null,
      "outputs": []
    },
    {
      "cell_type": "code",
      "metadata": {
        "id": "4052e90d"
      },
      "source": [
        "X_train,X_test,y_train,y_test = train_test_split(X_df,y,test_size=0.7,random_state=123,stratify=y) #splitting data into train and test sets\n",
        "log_reg = LogisticRegression(penalty='l2',C=1.0).fit(X_train,y_train) #applying logistic regression to predict score.\n",
        "print(\"Trainig set:\",log_reg.score(X_train,y_train))\n",
        "print(\"Testing set:\",log_reg.score(X_test,y_test))"
      ],
      "id": "4052e90d",
      "execution_count": null,
      "outputs": []
    },
    {
      "cell_type": "code",
      "metadata": {
        "id": "d1e2aa65"
      },
      "source": [
        "y_pred = log_reg.predict(X_test) #predicting for X-test data"
      ],
      "id": "d1e2aa65",
      "execution_count": null,
      "outputs": []
    },
    {
      "cell_type": "code",
      "metadata": {
        "id": "a4b46af5"
      },
      "source": [
        "accuracy_score(y_test,y_pred)"
      ],
      "id": "a4b46af5",
      "execution_count": null,
      "outputs": []
    },
    {
      "cell_type": "code",
      "metadata": {
        "id": "9556cadd"
      },
      "source": [
        "accuracy_score(y_train,log_reg.predict(X_train))"
      ],
      "id": "9556cadd",
      "execution_count": null,
      "outputs": []
    },
    {
      "cell_type": "code",
      "metadata": {
        "id": "3cf7e31e"
      },
      "source": [
        "cm = confusion_matrix(y_test,y_pred) # creating confusion matrix\n",
        "cm"
      ],
      "id": "3cf7e31e",
      "execution_count": null,
      "outputs": []
    },
    {
      "cell_type": "code",
      "metadata": {
        "id": "009c6a62"
      },
      "source": [
        ""
      ],
      "id": "009c6a62",
      "execution_count": null,
      "outputs": []
    }
  ]
}